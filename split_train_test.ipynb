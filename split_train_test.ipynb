{
 "cells": [
  {
   "cell_type": "code",
   "execution_count": 12,
   "metadata": {},
   "outputs": [],
   "source": [
    "import os\n",
    "from glob import glob\n",
    "import numpy as np\n",
    "import pandas as pd"
   ]
  },
  {
   "cell_type": "code",
   "execution_count": 14,
   "metadata": {},
   "outputs": [],
   "source": [
    "df = pd.read_csv('../data/vox1_meta.csv',sep='\\t')"
   ]
  },
  {
   "cell_type": "code",
   "execution_count": 16,
   "metadata": {},
   "outputs": [],
   "source": [
    "# def split_stratified(data, column, size):\n",
    "#     test = []\n",
    "#     train = []\n",
    "#     for un in data['column'].unique():\n",
    "#         s = data[data[column]==un]\n",
    "#         index = np.random.binomial(1, size,s.shape[0])\n",
    "#         test.append(s[index==1])\n",
    "#         train.append(s[index==0])\n",
    "    \n",
    "#     return pd.concat(train), pd.concat(test)"
   ]
  },
  {
   "cell_type": "code",
   "execution_count": 17,
   "metadata": {},
   "outputs": [],
   "source": [
    "train = set(df[df['Set']=='dev']['VGGFace1 ID'])\n",
    "test = set(df[df['Set']=='test']['VGGFace1 ID'])"
   ]
  },
  {
   "cell_type": "code",
   "execution_count": 19,
   "metadata": {},
   "outputs": [
    {
     "name": "stdout",
     "output_type": "stream",
     "text": [
      "38505 1179053\n"
     ]
    }
   ],
   "source": [
    "PATH = '../data/unzippedFaces/'\n",
    "files_train  = [y for x in os.walk(PATH) for y in glob(os.path.join(x[0], '*.jpg')) if y.split('/')[-4] in train]\n",
    "files_test  = [y for x in os.walk(PATH) for y in glob(os.path.join(x[0], '*.jpg')) if y.split('/')[-4] in test]\n",
    "print(len(files_test), len(files_train))"
   ]
  },
  {
   "cell_type": "code",
   "execution_count": null,
   "metadata": {},
   "outputs": [],
   "source": []
  },
  {
   "cell_type": "code",
   "execution_count": 20,
   "metadata": {},
   "outputs": [],
   "source": [
    "with open('train.txt', 'w') as f:\n",
    "    f.write('\\n'.join(files_train))\n",
    "    \n",
    "with open('test.txt', 'w') as f:\n",
    "    f.write('\\n'.join(files_test))"
   ]
  },
  {
   "cell_type": "code",
   "execution_count": 23,
   "metadata": {},
   "outputs": [],
   "source": [
    "with open('train.txt', 'r') as f:\n",
    "    files = f.read()"
   ]
  },
  {
   "cell_type": "code",
   "execution_count": 24,
   "metadata": {},
   "outputs": [
    {
     "data": {
      "text/plain": [
       "'../data/unzippedFaces/Alexandra_Roach/1.6/QUZSHTlha6A/0000975.jpg\\n../data/unzippedFaces/Alexandra_Ro'"
      ]
     },
     "execution_count": 24,
     "metadata": {},
     "output_type": "execute_result"
    }
   ],
   "source": [
    "files[:100]"
   ]
  },
  {
   "cell_type": "code",
   "execution_count": 26,
   "metadata": {},
   "outputs": [
    {
     "data": {
      "text/plain": [
       "['/home/dev/other/data/unzippedFaces/Alexandra_Roach/1.6/QUZSHTlha6A/0000975.jpg',\n",
       " '/home/dev/other/data/unzippedFaces/Alexandra_Roach/1.6/QUZSHTlha6A/0003175.jpg',\n",
       " '/home/dev/other/data/unzippedFaces/Alexandra_Roach/1.6/QUZSHTlha6A/0002325.jpg',\n",
       " '/home/dev/other/data/unzippedFaces/Alexandra_Roach/1.6/QUZSHTlha6A/0004550.jpg',\n",
       " '/home/dev/other/data/unzippedFaces/Alexandra_Roach/1.6/QUZSHTlha6A/0003100.jpg',\n",
       " '/home/dev/other/data/unzippedFaces/Alexandra_Roach/1.6/QUZSHTlha6A/0002200.jpg',\n",
       " '/home/dev/other/data/unzippedFaces/Alexandra_Roach/1.6/QUZSHTlha6A/0002825.jpg',\n",
       " '/home/dev/other/data/unzippedFaces/Alexandra_Roach/1.6/QUZSHTlha6A/0001925.jpg',\n",
       " '/home/dev/other/data/unzippedFaces/Alexandra_Roach/1.6/QUZSHTlha6A/0002850.jpg',\n",
       " '/home/dev/other/data/unzippedFaces/Alexandra_Roach/1.6/QUZSHTlha6A/0004325.jpg']"
      ]
     },
     "execution_count": 26,
     "metadata": {},
     "output_type": "execute_result"
    }
   ],
   "source": [
    "[os.path.abspath(f) for f in files.split('\\n')[:10]]"
   ]
  }
 ],
 "metadata": {
  "kernelspec": {
   "display_name": "Python 3",
   "language": "python",
   "name": "python3"
  },
  "language_info": {
   "codemirror_mode": {
    "name": "ipython",
    "version": 3
   },
   "file_extension": ".py",
   "mimetype": "text/x-python",
   "name": "python",
   "nbconvert_exporter": "python",
   "pygments_lexer": "ipython3",
   "version": "3.7.7"
  }
 },
 "nbformat": 4,
 "nbformat_minor": 4
}
